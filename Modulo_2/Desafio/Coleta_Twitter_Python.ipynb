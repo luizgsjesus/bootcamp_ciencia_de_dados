{
 "cells": [
  {
   "cell_type": "code",
   "execution_count": null,
   "metadata": {
    "scrolled": true
   },
   "outputs": [],
   "source": [
    "#bibliotecas para coleta de dados no twitter:\n",
    "#tweepy, Twython, Python-twitter...\n",
    "\n",
    "#instala a bibliotecas utilizadas\n",
    "!pip install tweepy\n",
    "!pip install textblob"
   ]
  },
  {
   "cell_type": "code",
   "execution_count": null,
   "metadata": {},
   "outputs": [],
   "source": [
    "import tweepy\n",
    "from textblob import TextBlob as tb\n",
    "import numpy as np"
   ]
  },
  {
   "cell_type": "code",
   "execution_count": null,
   "metadata": {},
   "outputs": [],
   "source": [
    "#Chaves de autenticação do tweeter\n",
    "auth = tweepy.OAuthHandler('consumer_key', 'consumer_secret')\n",
    "auth.set_access_token('access_token', 'access_token_secret')\n",
    "\n",
    "api = tweepy.API(auth)"
   ]
  },
  {
   "cell_type": "code",
   "execution_count": null,
   "metadata": {},
   "outputs": [],
   "source": [
    "#Imprime minha própria timeline\n",
    "public_tweets = api.home_timeline()\n",
    "for tweet in public_tweets:\n",
    "    print(tweet.text)"
   ]
  },
  {
   "cell_type": "markdown",
   "metadata": {},
   "source": [
    "### Busca por Palavra chave"
   ]
  },
  {
   "cell_type": "code",
   "execution_count": null,
   "metadata": {},
   "outputs": [],
   "source": [
    "keyword = ('#covid OR #covid19 OR #coronavirus OR #pandemia OR #ficaemcasa')\n",
    "\n",
    "tweets = api.search(q=keyword, count =  100, result_type='popular', tweet_mode='extended')"
   ]
  },
  {
   "cell_type": "code",
   "execution_count": null,
   "metadata": {
    "scrolled": true
   },
   "outputs": [],
   "source": [
    "#Verifica a quantida de tweets coletados\n",
    "print(\"Total de tweets coletados %s.\" %(len(tweets)))"
   ]
  },
  {
   "cell_type": "code",
   "execution_count": null,
   "metadata": {},
   "outputs": [],
   "source": [
    "#Imprime o nome do usuário (screen_name) e o texto do tweet\n",
    "\n",
    "for tweet in tweets:\n",
    "    print(\"Usuário: %s \"%{tweet.user.screen_name})\n",
    "    print(\"Tweet: %s \"%{tweet.full_text})"
   ]
  },
  {
   "cell_type": "markdown",
   "metadata": {},
   "source": [
    "### Análise de polaridade"
   ]
  },
  {
   "cell_type": "code",
   "execution_count": null,
   "metadata": {},
   "outputs": [],
   "source": [
    "#Variável de armazenamento das polaridades\n",
    "analysis = None\n",
    "\n",
    "#Lista vazia para armazenar scores\n",
    "tweets_score = []"
   ]
  },
  {
   "cell_type": "code",
   "execution_count": null,
   "metadata": {},
   "outputs": [],
   "source": [
    "for tweet in tweets:\n",
    "    print('**', tweet.full_text)\n",
    "    analysis = tb(tweet.full_text)\n",
    "    polarity = analysis.sentiment.polarity\n",
    "    tweets_score.append(polarity)"
   ]
  },
  {
   "cell_type": "code",
   "execution_count": null,
   "metadata": {},
   "outputs": [],
   "source": [
    "print('Vetor de Polaridade: ', tweets_score)\n",
    "print('Média de Sentimento: '+str(np.mean(tweets_score)))"
   ]
  },
  {
   "cell_type": "markdown",
   "metadata": {},
   "source": [
    "#### Análise de polaridade para tweets que não foram postados em inglês"
   ]
  },
  {
   "cell_type": "code",
   "execution_count": null,
   "metadata": {},
   "outputs": [],
   "source": [
    "polarities = []\n",
    "\n",
    "for tweet in tweets:\n",
    "    analysis = tb(tweet.full_text)\n",
    "    \n",
    "    if analysis.detect_language() != 'en': #verifica se tweet está em inglês\n",
    "        traducao = tb(str(analysis.translate(to='en')))#traduz tweet para inglês\n",
    "        print('Texto traduzido %s: '%traducao)\n",
    "        polarity = traducao.sentiment.polarity\n",
    "    else:\n",
    "        polarity = analysis.sentiment.polarity\n",
    "        \n",
    "    polarities.append(polarity)\n",
    "    \n"
   ]
  },
  {
   "cell_type": "code",
   "execution_count": null,
   "metadata": {},
   "outputs": [],
   "source": [
    "print('Vetor de Polaridade: ', polarities)\n",
    "print('Média de Sentimento: '+str(np.mean(polarities)))"
   ]
  },
  {
   "cell_type": "markdown",
   "metadata": {},
   "source": [
    "#### Armazena tweets coletados"
   ]
  },
  {
   "cell_type": "code",
   "execution_count": null,
   "metadata": {},
   "outputs": [],
   "source": [
    "#importa pacote json\n",
    "import json"
   ]
  },
  {
   "cell_type": "code",
   "execution_count": null,
   "metadata": {},
   "outputs": [],
   "source": [
    "status = tweets[0]\n",
    "\n",
    "#converte para string\n",
    "json_str = json.dumps(status._json)\n",
    "\n",
    "#de string para objeto python\n",
    "parsed = json.loads(json_str)"
   ]
  },
  {
   "cell_type": "code",
   "execution_count": null,
   "metadata": {},
   "outputs": [],
   "source": [
    "type(tweets)\n"
   ]
  },
  {
   "cell_type": "code",
   "execution_count": null,
   "metadata": {},
   "outputs": [],
   "source": [
    "type(json_str)\n"
   ]
  },
  {
   "cell_type": "code",
   "execution_count": null,
   "metadata": {},
   "outputs": [],
   "source": [
    "type(parsed)"
   ]
  },
  {
   "cell_type": "code",
   "execution_count": null,
   "metadata": {},
   "outputs": [],
   "source": [
    "#Deserializa os tweets e grava me arquivo .json\n",
    "\n",
    "datasetPath = '/Desafio/Twitter_Data'\n",
    "\n",
    "#Abre arquivo em modo de append\n",
    "with open(datasetPath+'/tweets_keywords.json', 'a', encoding='utf8') as filename:\n",
    "    \n",
    "    #Converte arquivos\n",
    "    for tweet in tweets: \n",
    "        \n",
    "        status = tweet\n",
    "        \n",
    "        json_str = json.dumps(status._json)\n",
    "        \n",
    "        parsed = json.loads(json_str)\n",
    "        \n",
    "        #grava o tweet deserializado no arquivo\n",
    "        json.dump(parsed, filename, ensure_ascii=False, sort_keys=True, indent = 4, separators=(',', ':'))"
   ]
  },
  {
   "cell_type": "markdown",
   "metadata": {},
   "source": [
    "#### Armazena no MongoDB "
   ]
  },
  {
   "cell_type": "code",
   "execution_count": null,
   "metadata": {},
   "outputs": [],
   "source": [
    "import pymongo"
   ]
  },
  {
   "cell_type": "code",
   "execution_count": null,
   "metadata": {},
   "outputs": [],
   "source": [
    "con = pymongo.MongoClient('localhost', 27017)\n",
    "\n",
    "db = con.twitterdb"
   ]
  },
  {
   "cell_type": "code",
   "execution_count": null,
   "metadata": {},
   "outputs": [],
   "source": [
    "collection = db.tweets_keywords"
   ]
  },
  {
   "cell_type": "code",
   "execution_count": null,
   "metadata": {
    "scrolled": true
   },
   "outputs": [],
   "source": [
    "db.tweets_keywords.count()"
   ]
  },
  {
   "cell_type": "code",
   "execution_count": null,
   "metadata": {},
   "outputs": [],
   "source": [
    "db.tweets_keywords.count_documents({})"
   ]
  },
  {
   "cell_type": "code",
   "execution_count": null,
   "metadata": {},
   "outputs": [],
   "source": [
    "i = 0 \n",
    "\n",
    "#insere cada tweet no vetor de resultados tweets\n",
    "for tweet in tweets:\n",
    "    db.tweets_keywords.insert_one(tweet._json)\n",
    "    i=i+1"
   ]
  },
  {
   "cell_type": "code",
   "execution_count": null,
   "metadata": {},
   "outputs": [],
   "source": [
    "print(\"Quantidade de tweets inseridos: %s\" %i)"
   ]
  },
  {
   "cell_type": "code",
   "execution_count": null,
   "metadata": {},
   "outputs": [],
   "source": [
    "#Lista a quantidade de tweets existentes na coleção\n",
    "db.tweets_keywords.count_documents({})"
   ]
  }
 ],
 "metadata": {
  "kernelspec": {
   "display_name": "Python 3",
   "language": "python",
   "name": "python3"
  },
  "language_info": {
   "codemirror_mode": {
    "name": "ipython",
    "version": 3
   },
   "file_extension": ".py",
   "mimetype": "text/x-python",
   "name": "python",
   "nbconvert_exporter": "python",
   "pygments_lexer": "ipython3",
   "version": "3.8.6"
  }
 },
 "nbformat": 4,
 "nbformat_minor": 4
}
