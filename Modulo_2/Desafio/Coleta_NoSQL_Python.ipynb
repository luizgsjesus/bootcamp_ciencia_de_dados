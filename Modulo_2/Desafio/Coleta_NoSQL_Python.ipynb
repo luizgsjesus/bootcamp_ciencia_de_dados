{
 "cells": [
  {
   "cell_type": "code",
   "execution_count": 8,
   "metadata": {},
   "outputs": [],
   "source": [
    "#instala e importa a biblioteca Pymongo\n",
    "#!pip install pymongo\n",
    "import pymongo"
   ]
  },
  {
   "cell_type": "code",
   "execution_count": 10,
   "metadata": {},
   "outputs": [],
   "source": [
    "#Conecta com BD\n",
    "from pymongo import MongoClient\n",
    "con = pymongo.MongoClient('localhost', 27017)"
   ]
  },
  {
   "cell_type": "code",
   "execution_count": 11,
   "metadata": {},
   "outputs": [
    {
     "data": {
      "text/plain": [
       "['admin', 'config', 'igti', 'local']"
      ]
     },
     "execution_count": 11,
     "metadata": {},
     "output_type": "execute_result"
    }
   ],
   "source": [
    "#lista os BD\n",
    "con.list_database_names()"
   ]
  },
  {
   "cell_type": "code",
   "execution_count": 12,
   "metadata": {},
   "outputs": [],
   "source": [
    "#Seleciona o BD\n",
    "db = con.igti"
   ]
  },
  {
   "cell_type": "code",
   "execution_count": 42,
   "metadata": {},
   "outputs": [
    {
     "data": {
      "text/plain": [
       "['IrisDump', 'iris', 'pessoas']"
      ]
     },
     "execution_count": 42,
     "metadata": {},
     "output_type": "execute_result"
    }
   ],
   "source": [
    "#Lista coleções do BD\n",
    "db.list_collection_names()"
   ]
  },
  {
   "cell_type": "code",
   "execution_count": 15,
   "metadata": {},
   "outputs": [],
   "source": [
    "#Seleciona uma coleção\n",
    "collection = db.iris"
   ]
  },
  {
   "cell_type": "code",
   "execution_count": 16,
   "metadata": {},
   "outputs": [
    {
     "data": {
      "text/plain": [
       "{'_id': ObjectId('5fe79ea038661f698e3cb7d2'),\n",
       " 'Sepal_Length': 5.1,\n",
       " 'Sepal_Width': 3.5,\n",
       " 'Petal_Length': 1.4,\n",
       " 'Petal_Width': 0.2,\n",
       " 'Species': 'setosa'}"
      ]
     },
     "execution_count": 16,
     "metadata": {},
     "output_type": "execute_result"
    }
   ],
   "source": [
    "#Seleciona o primeiro elemento da coleção\n",
    "collection.find_one()"
   ]
  },
  {
   "cell_type": "code",
   "execution_count": 36,
   "metadata": {},
   "outputs": [
    {
     "name": "stdout",
     "output_type": "stream",
     "text": [
      "{'_id': ObjectId('5fe79ea038661f698e3cb7d2'), 'Sepal_Length': 5.1, 'Sepal_Width': 3.5, 'Petal_Length': 1.4, 'Petal_Width': 0.2, 'Species': 'setosa'}\n"
     ]
    }
   ],
   "source": [
    "#Seleciona o primeiro documentod a coleção que atenda a condição\n",
    "print(collection.find_one({\"Species\": \"setosa\" }))"
   ]
  },
  {
   "cell_type": "code",
   "execution_count": 27,
   "metadata": {},
   "outputs": [],
   "source": [
    "#importa pacote para imprimir\n",
    "import pprint"
   ]
  },
  {
   "cell_type": "code",
   "execution_count": 37,
   "metadata": {
    "scrolled": true
   },
   "outputs": [
    {
     "name": "stdout",
     "output_type": "stream",
     "text": [
      "{'Petal_Length': 1.4,\n",
      " 'Petal_Width': 0.2,\n",
      " 'Sepal_Length': 5.1,\n",
      " 'Sepal_Width': 3.5,\n",
      " 'Species': 'setosa',\n",
      " '_id': ObjectId('5fe79ea038661f698e3cb7d2')}\n"
     ]
    }
   ],
   "source": [
    "#Seleciona o o primeiro documento que atenda a condição\n",
    "pprint.pprint(collection.find_one({'Species': 'setosa'}))"
   ]
  },
  {
   "cell_type": "code",
   "execution_count": 40,
   "metadata": {
    "scrolled": false
   },
   "outputs": [
    {
     "name": "stdout",
     "output_type": "stream",
     "text": [
      "{'Petal_Length': 1.4,\n",
      " 'Petal_Width': 0.2,\n",
      " 'Sepal_Length': 5.1,\n",
      " 'Sepal_Width': 3.5,\n",
      " 'Species': 'setosa',\n",
      " '_id': ObjectId('5fe79ea038661f698e3cb7d2')}\n"
     ]
    }
   ],
   "source": [
    "pprint.pprint(collection.find_one({'Species': 'setosa'}))"
   ]
  },
  {
   "cell_type": "code",
   "execution_count": 32,
   "metadata": {},
   "outputs": [
    {
     "data": {
      "text/plain": [
       "{'_id': ObjectId('5fe79ea038661f698e3cb7d2'),\n",
       " 'Sepal_Length': 5.1,\n",
       " 'Sepal_Width': 3.5,\n",
       " 'Petal_Length': 1.4,\n",
       " 'Petal_Width': 0.2,\n",
       " 'Species': 'setosa'}"
      ]
     },
     "execution_count": 32,
     "metadata": {},
     "output_type": "execute_result"
    }
   ],
   "source": [
    "collection.find_one()"
   ]
  },
  {
   "cell_type": "code",
   "execution_count": 33,
   "metadata": {},
   "outputs": [
    {
     "name": "stdout",
     "output_type": "stream",
     "text": [
      "{'Petal_Length': 1.4,\n",
      " 'Petal_Width': 0.2,\n",
      " 'Sepal_Length': 5.1,\n",
      " 'Sepal_Width': 3.5,\n",
      " 'Species': 'setosa',\n",
      " '_id': ObjectId('5fe79ea038661f698e3cb7d2')}\n",
      "{'Petal_Length': 1.4,\n",
      " 'Petal_Width': 0.2,\n",
      " 'Sepal_Length': 4.9,\n",
      " 'Sepal_Width': 3.0,\n",
      " 'Species': 'setosa',\n",
      " '_id': ObjectId('5fe79ea038661f698e3cb7d3')}\n",
      "{'Petal_Length': 1.3,\n",
      " 'Petal_Width': 0.2,\n",
      " 'Sepal_Length': 4.7,\n",
      " 'Sepal_Width': 3.2,\n",
      " 'Species': 'setosa',\n",
      " '_id': ObjectId('5fe79ea038661f698e3cb7d4')}\n",
      "{'Petal_Length': 1.5,\n",
      " 'Petal_Width': 0.2,\n",
      " 'Sepal_Length': 4.6,\n",
      " 'Sepal_Width': 3.1,\n",
      " 'Species': 'setosa',\n",
      " '_id': ObjectId('5fe79ea038661f698e3cb7d5')}\n",
      "{'Petal_Length': 1.4,\n",
      " 'Petal_Width': 0.2,\n",
      " 'Sepal_Length': 5.0,\n",
      " 'Sepal_Width': 3.6,\n",
      " 'Species': 'setosa',\n",
      " '_id': ObjectId('5fe79ea038661f698e3cb7d6')}\n",
      "{'Petal_Length': 1.7,\n",
      " 'Petal_Width': 0.4,\n",
      " 'Sepal_Length': 5.4,\n",
      " 'Sepal_Width': 3.9,\n",
      " 'Species': 'setosa',\n",
      " '_id': ObjectId('5fe79ea038661f698e3cb7d7')}\n",
      "{'Petal_Length': 1.4,\n",
      " 'Petal_Width': 0.3,\n",
      " 'Sepal_Length': 4.6,\n",
      " 'Sepal_Width': 3.4,\n",
      " 'Species': 'setosa',\n",
      " '_id': ObjectId('5fe79ea038661f698e3cb7d8')}\n",
      "{'Petal_Length': 1.5,\n",
      " 'Petal_Width': 0.2,\n",
      " 'Sepal_Length': 5.0,\n",
      " 'Sepal_Width': 3.4,\n",
      " 'Species': 'setosa',\n",
      " '_id': ObjectId('5fe79ea038661f698e3cb7d9')}\n",
      "{'Petal_Length': 1.4,\n",
      " 'Petal_Width': 0.2,\n",
      " 'Sepal_Length': 4.4,\n",
      " 'Sepal_Width': 2.9,\n",
      " 'Species': 'setosa',\n",
      " '_id': ObjectId('5fe79ea038661f698e3cb7da')}\n",
      "{'Petal_Length': 1.5,\n",
      " 'Petal_Width': 0.1,\n",
      " 'Sepal_Length': 4.9,\n",
      " 'Sepal_Width': 3.1,\n",
      " 'Species': 'setosa',\n",
      " '_id': ObjectId('5fe79ea038661f698e3cb7db')}\n",
      "{'Petal_Length': 1.5,\n",
      " 'Petal_Width': 0.2,\n",
      " 'Sepal_Length': 5.4,\n",
      " 'Sepal_Width': 3.7,\n",
      " 'Species': 'setosa',\n",
      " '_id': ObjectId('5fe79ea038661f698e3cb7dc')}\n",
      "{'Petal_Length': 1.6,\n",
      " 'Petal_Width': 0.2,\n",
      " 'Sepal_Length': 4.8,\n",
      " 'Sepal_Width': 3.4,\n",
      " 'Species': 'setosa',\n",
      " '_id': ObjectId('5fe79ea038661f698e3cb7dd')}\n",
      "{'Petal_Length': 1.4,\n",
      " 'Petal_Width': 0.1,\n",
      " 'Sepal_Length': 4.8,\n",
      " 'Sepal_Width': 3.0,\n",
      " 'Species': 'setosa',\n",
      " '_id': ObjectId('5fe79ea038661f698e3cb7de')}\n",
      "{'Petal_Length': 1.1,\n",
      " 'Petal_Width': 0.1,\n",
      " 'Sepal_Length': 4.3,\n",
      " 'Sepal_Width': 3.0,\n",
      " 'Species': 'setosa',\n",
      " '_id': ObjectId('5fe79ea038661f698e3cb7df')}\n",
      "{'Petal_Length': 1.2,\n",
      " 'Petal_Width': 0.2,\n",
      " 'Sepal_Length': 5.8,\n",
      " 'Sepal_Width': 4.0,\n",
      " 'Species': 'setosa',\n",
      " '_id': ObjectId('5fe79ea038661f698e3cb7e0')}\n",
      "{'Petal_Length': 1.5,\n",
      " 'Petal_Width': 0.4,\n",
      " 'Sepal_Length': 5.7,\n",
      " 'Sepal_Width': 4.4,\n",
      " 'Species': 'setosa',\n",
      " '_id': ObjectId('5fe79ea038661f698e3cb7e1')}\n",
      "{'Petal_Length': 1.3,\n",
      " 'Petal_Width': 0.4,\n",
      " 'Sepal_Length': 5.4,\n",
      " 'Sepal_Width': 3.9,\n",
      " 'Species': 'setosa',\n",
      " '_id': ObjectId('5fe79ea038661f698e3cb7e2')}\n",
      "{'Petal_Length': 1.4,\n",
      " 'Petal_Width': 0.3,\n",
      " 'Sepal_Length': 5.1,\n",
      " 'Sepal_Width': 3.5,\n",
      " 'Species': 'setosa',\n",
      " '_id': ObjectId('5fe79ea038661f698e3cb7e3')}\n",
      "{'Petal_Length': 1.7,\n",
      " 'Petal_Width': 0.3,\n",
      " 'Sepal_Length': 5.7,\n",
      " 'Sepal_Width': 3.8,\n",
      " 'Species': 'setosa',\n",
      " '_id': ObjectId('5fe79ea038661f698e3cb7e4')}\n",
      "{'Petal_Length': 1.5,\n",
      " 'Petal_Width': 0.3,\n",
      " 'Sepal_Length': 5.1,\n",
      " 'Sepal_Width': 3.8,\n",
      " 'Species': 'setosa',\n",
      " '_id': ObjectId('5fe79ea038661f698e3cb7e5')}\n",
      "{'Petal_Length': 1.7,\n",
      " 'Petal_Width': 0.2,\n",
      " 'Sepal_Length': 5.4,\n",
      " 'Sepal_Width': 3.4,\n",
      " 'Species': 'setosa',\n",
      " '_id': ObjectId('5fe79ea038661f698e3cb7e6')}\n",
      "{'Petal_Length': 1.5,\n",
      " 'Petal_Width': 0.4,\n",
      " 'Sepal_Length': 5.1,\n",
      " 'Sepal_Width': 3.7,\n",
      " 'Species': 'setosa',\n",
      " '_id': ObjectId('5fe79ea038661f698e3cb7e7')}\n",
      "{'Petal_Length': 1.0,\n",
      " 'Petal_Width': 0.2,\n",
      " 'Sepal_Length': 4.6,\n",
      " 'Sepal_Width': 3.6,\n",
      " 'Species': 'setosa',\n",
      " '_id': ObjectId('5fe79ea038661f698e3cb7e8')}\n",
      "{'Petal_Length': 1.7,\n",
      " 'Petal_Width': 0.5,\n",
      " 'Sepal_Length': 5.1,\n",
      " 'Sepal_Width': 3.3,\n",
      " 'Species': 'setosa',\n",
      " '_id': ObjectId('5fe79ea038661f698e3cb7e9')}\n",
      "{'Petal_Length': 1.9,\n",
      " 'Petal_Width': 0.2,\n",
      " 'Sepal_Length': 4.8,\n",
      " 'Sepal_Width': 3.4,\n",
      " 'Species': 'setosa',\n",
      " '_id': ObjectId('5fe79ea038661f698e3cb7ea')}\n",
      "{'Petal_Length': 1.6,\n",
      " 'Petal_Width': 0.2,\n",
      " 'Sepal_Length': 5.0,\n",
      " 'Sepal_Width': 3.0,\n",
      " 'Species': 'setosa',\n",
      " '_id': ObjectId('5fe79ea038661f698e3cb7eb')}\n",
      "{'Petal_Length': 1.6,\n",
      " 'Petal_Width': 0.4,\n",
      " 'Sepal_Length': 5.0,\n",
      " 'Sepal_Width': 3.4,\n",
      " 'Species': 'setosa',\n",
      " '_id': ObjectId('5fe79ea038661f698e3cb7ec')}\n",
      "{'Petal_Length': 1.5,\n",
      " 'Petal_Width': 0.2,\n",
      " 'Sepal_Length': 5.2,\n",
      " 'Sepal_Width': 3.5,\n",
      " 'Species': 'setosa',\n",
      " '_id': ObjectId('5fe79ea038661f698e3cb7ed')}\n",
      "{'Petal_Length': 1.4,\n",
      " 'Petal_Width': 0.2,\n",
      " 'Sepal_Length': 5.2,\n",
      " 'Sepal_Width': 3.4,\n",
      " 'Species': 'setosa',\n",
      " '_id': ObjectId('5fe79ea038661f698e3cb7ee')}\n",
      "{'Petal_Length': 1.6,\n",
      " 'Petal_Width': 0.2,\n",
      " 'Sepal_Length': 4.7,\n",
      " 'Sepal_Width': 3.2,\n",
      " 'Species': 'setosa',\n",
      " '_id': ObjectId('5fe79ea038661f698e3cb7ef')}\n",
      "{'Petal_Length': 1.6,\n",
      " 'Petal_Width': 0.2,\n",
      " 'Sepal_Length': 4.8,\n",
      " 'Sepal_Width': 3.1,\n",
      " 'Species': 'setosa',\n",
      " '_id': ObjectId('5fe79ea038661f698e3cb7f0')}\n",
      "{'Petal_Length': 1.5,\n",
      " 'Petal_Width': 0.4,\n",
      " 'Sepal_Length': 5.4,\n",
      " 'Sepal_Width': 3.4,\n",
      " 'Species': 'setosa',\n",
      " '_id': ObjectId('5fe79ea038661f698e3cb7f1')}\n",
      "{'Petal_Length': 1.5,\n",
      " 'Petal_Width': 0.1,\n",
      " 'Sepal_Length': 5.2,\n",
      " 'Sepal_Width': 4.1,\n",
      " 'Species': 'setosa',\n",
      " '_id': ObjectId('5fe79ea038661f698e3cb7f2')}\n",
      "{'Petal_Length': 1.4,\n",
      " 'Petal_Width': 0.2,\n",
      " 'Sepal_Length': 5.5,\n",
      " 'Sepal_Width': 4.2,\n",
      " 'Species': 'setosa',\n",
      " '_id': ObjectId('5fe79ea038661f698e3cb7f3')}\n",
      "{'Petal_Length': 1.5,\n",
      " 'Petal_Width': 0.2,\n",
      " 'Sepal_Length': 4.9,\n",
      " 'Sepal_Width': 3.1,\n",
      " 'Species': 'setosa',\n",
      " '_id': ObjectId('5fe79ea038661f698e3cb7f4')}\n",
      "{'Petal_Length': 1.2,\n",
      " 'Petal_Width': 0.2,\n",
      " 'Sepal_Length': 5.0,\n",
      " 'Sepal_Width': 3.2,\n",
      " 'Species': 'setosa',\n",
      " '_id': ObjectId('5fe79ea038661f698e3cb7f5')}\n",
      "{'Petal_Length': 1.3,\n",
      " 'Petal_Width': 0.2,\n",
      " 'Sepal_Length': 5.5,\n",
      " 'Sepal_Width': 3.5,\n",
      " 'Species': 'setosa',\n",
      " '_id': ObjectId('5fe79ea038661f698e3cb7f6')}\n",
      "{'Petal_Length': 1.4,\n",
      " 'Petal_Width': 0.1,\n",
      " 'Sepal_Length': 4.9,\n",
      " 'Sepal_Width': 3.6,\n",
      " 'Species': 'setosa',\n",
      " '_id': ObjectId('5fe79ea038661f698e3cb7f7')}\n",
      "{'Petal_Length': 1.3,\n",
      " 'Petal_Width': 0.2,\n",
      " 'Sepal_Length': 4.4,\n",
      " 'Sepal_Width': 3.0,\n",
      " 'Species': 'setosa',\n",
      " '_id': ObjectId('5fe79ea038661f698e3cb7f8')}\n",
      "{'Petal_Length': 1.5,\n",
      " 'Petal_Width': 0.2,\n",
      " 'Sepal_Length': 5.1,\n",
      " 'Sepal_Width': 3.4,\n",
      " 'Species': 'setosa',\n",
      " '_id': ObjectId('5fe79ea038661f698e3cb7f9')}\n",
      "{'Petal_Length': 1.3,\n",
      " 'Petal_Width': 0.3,\n",
      " 'Sepal_Length': 5.0,\n",
      " 'Sepal_Width': 3.5,\n",
      " 'Species': 'setosa',\n",
      " '_id': ObjectId('5fe79ea038661f698e3cb7fa')}\n",
      "{'Petal_Length': 1.3,\n",
      " 'Petal_Width': 0.3,\n",
      " 'Sepal_Length': 4.5,\n",
      " 'Sepal_Width': 2.3,\n",
      " 'Species': 'setosa',\n",
      " '_id': ObjectId('5fe79ea038661f698e3cb7fb')}\n",
      "{'Petal_Length': 1.3,\n",
      " 'Petal_Width': 0.2,\n",
      " 'Sepal_Length': 4.4,\n",
      " 'Sepal_Width': 3.2,\n",
      " 'Species': 'setosa',\n",
      " '_id': ObjectId('5fe79ea038661f698e3cb7fc')}\n",
      "{'Petal_Length': 1.6,\n",
      " 'Petal_Width': 0.6,\n",
      " 'Sepal_Length': 5.0,\n",
      " 'Sepal_Width': 3.5,\n",
      " 'Species': 'setosa',\n",
      " '_id': ObjectId('5fe79ea038661f698e3cb7fd')}\n",
      "{'Petal_Length': 1.9,\n",
      " 'Petal_Width': 0.4,\n",
      " 'Sepal_Length': 5.1,\n",
      " 'Sepal_Width': 3.8,\n",
      " 'Species': 'setosa',\n",
      " '_id': ObjectId('5fe79ea038661f698e3cb7fe')}\n",
      "{'Petal_Length': 1.4,\n",
      " 'Petal_Width': 0.3,\n",
      " 'Sepal_Length': 4.8,\n",
      " 'Sepal_Width': 3.0,\n",
      " 'Species': 'setosa',\n",
      " '_id': ObjectId('5fe79ea038661f698e3cb7ff')}\n",
      "{'Petal_Length': 1.6,\n",
      " 'Petal_Width': 0.2,\n",
      " 'Sepal_Length': 5.1,\n",
      " 'Sepal_Width': 3.8,\n",
      " 'Species': 'setosa',\n",
      " '_id': ObjectId('5fe79ea038661f698e3cb800')}\n",
      "{'Petal_Length': 1.4,\n",
      " 'Petal_Width': 0.2,\n",
      " 'Sepal_Length': 4.6,\n",
      " 'Sepal_Width': 3.2,\n",
      " 'Species': 'setosa',\n",
      " '_id': ObjectId('5fe79ea038661f698e3cb801')}\n",
      "{'Petal_Length': 1.5,\n",
      " 'Petal_Width': 0.2,\n",
      " 'Sepal_Length': 5.3,\n",
      " 'Sepal_Width': 3.7,\n",
      " 'Species': 'setosa',\n",
      " '_id': ObjectId('5fe79ea038661f698e3cb802')}\n",
      "{'Petal_Length': 1.4,\n",
      " 'Petal_Width': 0.2,\n",
      " 'Sepal_Length': 5.0,\n",
      " 'Sepal_Width': 3.3,\n",
      " 'Species': 'setosa',\n",
      " '_id': ObjectId('5fe79ea038661f698e3cb803')}\n",
      "{'Petal_Length': 4.7,\n",
      " 'Petal_Width': 1.4,\n",
      " 'Sepal_Length': 7.0,\n",
      " 'Sepal_Width': 3.2,\n",
      " 'Species': 'versicolor',\n",
      " '_id': ObjectId('5fe79ea038661f698e3cb804')}\n",
      "{'Petal_Length': 4.5,\n",
      " 'Petal_Width': 1.5,\n",
      " 'Sepal_Length': 6.4,\n",
      " 'Sepal_Width': 3.2,\n",
      " 'Species': 'versicolor',\n",
      " '_id': ObjectId('5fe79ea038661f698e3cb805')}\n",
      "{'Petal_Length': 4.9,\n",
      " 'Petal_Width': 1.5,\n",
      " 'Sepal_Length': 6.9,\n",
      " 'Sepal_Width': 3.1,\n",
      " 'Species': 'versicolor',\n",
      " '_id': ObjectId('5fe79ea038661f698e3cb806')}\n",
      "{'Petal_Length': 4.0,\n",
      " 'Petal_Width': 1.3,\n",
      " 'Sepal_Length': 5.5,\n",
      " 'Sepal_Width': 2.3,\n",
      " 'Species': 'versicolor',\n",
      " '_id': ObjectId('5fe79ea038661f698e3cb807')}\n",
      "{'Petal_Length': 4.6,\n",
      " 'Petal_Width': 1.5,\n",
      " 'Sepal_Length': 6.5,\n",
      " 'Sepal_Width': 2.8,\n",
      " 'Species': 'versicolor',\n",
      " '_id': ObjectId('5fe79ea038661f698e3cb808')}\n",
      "{'Petal_Length': 4.5,\n",
      " 'Petal_Width': 1.3,\n",
      " 'Sepal_Length': 5.7,\n",
      " 'Sepal_Width': 2.8,\n",
      " 'Species': 'versicolor',\n",
      " '_id': ObjectId('5fe79ea038661f698e3cb809')}\n",
      "{'Petal_Length': 4.7,\n",
      " 'Petal_Width': 1.6,\n",
      " 'Sepal_Length': 6.3,\n",
      " 'Sepal_Width': 3.3,\n",
      " 'Species': 'versicolor',\n",
      " '_id': ObjectId('5fe79ea038661f698e3cb80a')}\n",
      "{'Petal_Length': 3.3,\n",
      " 'Petal_Width': 1.0,\n",
      " 'Sepal_Length': 4.9,\n",
      " 'Sepal_Width': 2.4,\n",
      " 'Species': 'versicolor',\n",
      " '_id': ObjectId('5fe79ea038661f698e3cb80b')}\n",
      "{'Petal_Length': 4.6,\n",
      " 'Petal_Width': 1.3,\n",
      " 'Sepal_Length': 6.6,\n",
      " 'Sepal_Width': 2.9,\n",
      " 'Species': 'versicolor',\n",
      " '_id': ObjectId('5fe79ea038661f698e3cb80c')}\n",
      "{'Petal_Length': 3.9,\n",
      " 'Petal_Width': 1.4,\n",
      " 'Sepal_Length': 5.2,\n",
      " 'Sepal_Width': 2.7,\n",
      " 'Species': 'versicolor',\n",
      " '_id': ObjectId('5fe79ea038661f698e3cb80d')}\n",
      "{'Petal_Length': 3.5,\n",
      " 'Petal_Width': 1.0,\n",
      " 'Sepal_Length': 5.0,\n",
      " 'Sepal_Width': 2.0,\n",
      " 'Species': 'versicolor',\n",
      " '_id': ObjectId('5fe79ea038661f698e3cb80e')}\n",
      "{'Petal_Length': 4.2,\n",
      " 'Petal_Width': 1.5,\n",
      " 'Sepal_Length': 5.9,\n",
      " 'Sepal_Width': 3.0,\n",
      " 'Species': 'versicolor',\n",
      " '_id': ObjectId('5fe79ea038661f698e3cb80f')}\n",
      "{'Petal_Length': 4.0,\n",
      " 'Petal_Width': 1.0,\n",
      " 'Sepal_Length': 6.0,\n",
      " 'Sepal_Width': 2.2,\n",
      " 'Species': 'versicolor',\n",
      " '_id': ObjectId('5fe79ea038661f698e3cb810')}\n",
      "{'Petal_Length': 4.7,\n",
      " 'Petal_Width': 1.4,\n",
      " 'Sepal_Length': 6.1,\n",
      " 'Sepal_Width': 2.9,\n",
      " 'Species': 'versicolor',\n",
      " '_id': ObjectId('5fe79ea038661f698e3cb811')}\n",
      "{'Petal_Length': 3.6,\n",
      " 'Petal_Width': 1.3,\n",
      " 'Sepal_Length': 5.6,\n",
      " 'Sepal_Width': 2.9,\n",
      " 'Species': 'versicolor',\n",
      " '_id': ObjectId('5fe79ea038661f698e3cb812')}\n",
      "{'Petal_Length': 4.4,\n",
      " 'Petal_Width': 1.4,\n",
      " 'Sepal_Length': 6.7,\n",
      " 'Sepal_Width': 3.1,\n",
      " 'Species': 'versicolor',\n",
      " '_id': ObjectId('5fe79ea038661f698e3cb813')}\n",
      "{'Petal_Length': 4.5,\n",
      " 'Petal_Width': 1.5,\n",
      " 'Sepal_Length': 5.6,\n",
      " 'Sepal_Width': 3.0,\n",
      " 'Species': 'versicolor',\n",
      " '_id': ObjectId('5fe79ea038661f698e3cb814')}\n",
      "{'Petal_Length': 4.1,\n",
      " 'Petal_Width': 1.0,\n",
      " 'Sepal_Length': 5.8,\n",
      " 'Sepal_Width': 2.7,\n",
      " 'Species': 'versicolor',\n",
      " '_id': ObjectId('5fe79ea038661f698e3cb815')}\n",
      "{'Petal_Length': 4.5,\n",
      " 'Petal_Width': 1.5,\n",
      " 'Sepal_Length': 6.2,\n",
      " 'Sepal_Width': 2.2,\n",
      " 'Species': 'versicolor',\n",
      " '_id': ObjectId('5fe79ea038661f698e3cb816')}\n",
      "{'Petal_Length': 3.9,\n",
      " 'Petal_Width': 1.1,\n",
      " 'Sepal_Length': 5.6,\n",
      " 'Sepal_Width': 2.5,\n",
      " 'Species': 'versicolor',\n",
      " '_id': ObjectId('5fe79ea038661f698e3cb817')}\n",
      "{'Petal_Length': 4.8,\n",
      " 'Petal_Width': 1.8,\n",
      " 'Sepal_Length': 5.9,\n",
      " 'Sepal_Width': 3.2,\n",
      " 'Species': 'versicolor',\n",
      " '_id': ObjectId('5fe79ea038661f698e3cb818')}\n",
      "{'Petal_Length': 4.0,\n",
      " 'Petal_Width': 1.3,\n",
      " 'Sepal_Length': 6.1,\n",
      " 'Sepal_Width': 2.8,\n",
      " 'Species': 'versicolor',\n",
      " '_id': ObjectId('5fe79ea038661f698e3cb819')}\n",
      "{'Petal_Length': 4.9,\n",
      " 'Petal_Width': 1.5,\n",
      " 'Sepal_Length': 6.3,\n",
      " 'Sepal_Width': 2.5,\n",
      " 'Species': 'versicolor',\n",
      " '_id': ObjectId('5fe79ea038661f698e3cb81a')}\n",
      "{'Petal_Length': 4.7,\n",
      " 'Petal_Width': 1.2,\n",
      " 'Sepal_Length': 6.1,\n",
      " 'Sepal_Width': 2.8,\n",
      " 'Species': 'versicolor',\n",
      " '_id': ObjectId('5fe79ea038661f698e3cb81b')}\n",
      "{'Petal_Length': 4.3,\n",
      " 'Petal_Width': 1.3,\n",
      " 'Sepal_Length': 6.4,\n",
      " 'Sepal_Width': 2.9,\n",
      " 'Species': 'versicolor',\n",
      " '_id': ObjectId('5fe79ea038661f698e3cb81c')}\n",
      "{'Petal_Length': 4.4,\n",
      " 'Petal_Width': 1.4,\n",
      " 'Sepal_Length': 6.6,\n",
      " 'Sepal_Width': 3.0,\n",
      " 'Species': 'versicolor',\n",
      " '_id': ObjectId('5fe79ea038661f698e3cb81d')}\n",
      "{'Petal_Length': 4.8,\n",
      " 'Petal_Width': 1.4,\n",
      " 'Sepal_Length': 6.8,\n",
      " 'Sepal_Width': 2.8,\n",
      " 'Species': 'versicolor',\n",
      " '_id': ObjectId('5fe79ea038661f698e3cb81e')}\n",
      "{'Petal_Length': 5.0,\n",
      " 'Petal_Width': 1.7,\n",
      " 'Sepal_Length': 6.7,\n",
      " 'Sepal_Width': 3.0,\n",
      " 'Species': 'versicolor',\n",
      " '_id': ObjectId('5fe79ea038661f698e3cb81f')}\n",
      "{'Petal_Length': 4.5,\n",
      " 'Petal_Width': 1.5,\n",
      " 'Sepal_Length': 6.0,\n",
      " 'Sepal_Width': 2.9,\n",
      " 'Species': 'versicolor',\n",
      " '_id': ObjectId('5fe79ea038661f698e3cb820')}\n",
      "{'Petal_Length': 3.5,\n",
      " 'Petal_Width': 1.0,\n",
      " 'Sepal_Length': 5.7,\n",
      " 'Sepal_Width': 2.6,\n",
      " 'Species': 'versicolor',\n",
      " '_id': ObjectId('5fe79ea038661f698e3cb821')}\n",
      "{'Petal_Length': 3.8,\n",
      " 'Petal_Width': 1.1,\n",
      " 'Sepal_Length': 5.5,\n",
      " 'Sepal_Width': 2.4,\n",
      " 'Species': 'versicolor',\n",
      " '_id': ObjectId('5fe79ea038661f698e3cb822')}\n",
      "{'Petal_Length': 3.7,\n",
      " 'Petal_Width': 1.0,\n",
      " 'Sepal_Length': 5.5,\n",
      " 'Sepal_Width': 2.4,\n",
      " 'Species': 'versicolor',\n",
      " '_id': ObjectId('5fe79ea038661f698e3cb823')}\n",
      "{'Petal_Length': 3.9,\n",
      " 'Petal_Width': 1.2,\n",
      " 'Sepal_Length': 5.8,\n",
      " 'Sepal_Width': 2.7,\n",
      " 'Species': 'versicolor',\n",
      " '_id': ObjectId('5fe79ea038661f698e3cb824')}\n",
      "{'Petal_Length': 5.1,\n",
      " 'Petal_Width': 1.6,\n",
      " 'Sepal_Length': 6.0,\n",
      " 'Sepal_Width': 2.7,\n",
      " 'Species': 'versicolor',\n",
      " '_id': ObjectId('5fe79ea038661f698e3cb825')}\n",
      "{'Petal_Length': 4.5,\n",
      " 'Petal_Width': 1.5,\n",
      " 'Sepal_Length': 5.4,\n",
      " 'Sepal_Width': 3.0,\n",
      " 'Species': 'versicolor',\n",
      " '_id': ObjectId('5fe79ea038661f698e3cb826')}\n",
      "{'Petal_Length': 4.5,\n",
      " 'Petal_Width': 1.6,\n",
      " 'Sepal_Length': 6.0,\n",
      " 'Sepal_Width': 3.4,\n",
      " 'Species': 'versicolor',\n",
      " '_id': ObjectId('5fe79ea038661f698e3cb827')}\n",
      "{'Petal_Length': 4.7,\n",
      " 'Petal_Width': 1.5,\n",
      " 'Sepal_Length': 6.7,\n",
      " 'Sepal_Width': 3.1,\n",
      " 'Species': 'versicolor',\n",
      " '_id': ObjectId('5fe79ea038661f698e3cb828')}\n",
      "{'Petal_Length': 4.4,\n",
      " 'Petal_Width': 1.3,\n",
      " 'Sepal_Length': 6.3,\n",
      " 'Sepal_Width': 2.3,\n",
      " 'Species': 'versicolor',\n",
      " '_id': ObjectId('5fe79ea038661f698e3cb829')}\n",
      "{'Petal_Length': 4.1,\n",
      " 'Petal_Width': 1.3,\n",
      " 'Sepal_Length': 5.6,\n",
      " 'Sepal_Width': 3.0,\n",
      " 'Species': 'versicolor',\n",
      " '_id': ObjectId('5fe79ea038661f698e3cb82a')}\n",
      "{'Petal_Length': 4.0,\n",
      " 'Petal_Width': 1.3,\n",
      " 'Sepal_Length': 5.5,\n",
      " 'Sepal_Width': 2.5,\n",
      " 'Species': 'versicolor',\n",
      " '_id': ObjectId('5fe79ea038661f698e3cb82b')}\n",
      "{'Petal_Length': 4.4,\n",
      " 'Petal_Width': 1.2,\n",
      " 'Sepal_Length': 5.5,\n",
      " 'Sepal_Width': 2.6,\n",
      " 'Species': 'versicolor',\n",
      " '_id': ObjectId('5fe79ea038661f698e3cb82c')}\n",
      "{'Petal_Length': 4.6,\n",
      " 'Petal_Width': 1.4,\n",
      " 'Sepal_Length': 6.1,\n",
      " 'Sepal_Width': 3.0,\n",
      " 'Species': 'versicolor',\n",
      " '_id': ObjectId('5fe79ea038661f698e3cb82d')}\n",
      "{'Petal_Length': 4.0,\n",
      " 'Petal_Width': 1.2,\n",
      " 'Sepal_Length': 5.8,\n",
      " 'Sepal_Width': 2.6,\n",
      " 'Species': 'versicolor',\n",
      " '_id': ObjectId('5fe79ea038661f698e3cb82e')}\n",
      "{'Petal_Length': 3.3,\n",
      " 'Petal_Width': 1.0,\n",
      " 'Sepal_Length': 5.0,\n",
      " 'Sepal_Width': 2.3,\n",
      " 'Species': 'versicolor',\n",
      " '_id': ObjectId('5fe79ea038661f698e3cb82f')}\n",
      "{'Petal_Length': 4.2,\n",
      " 'Petal_Width': 1.3,\n",
      " 'Sepal_Length': 5.6,\n",
      " 'Sepal_Width': 2.7,\n",
      " 'Species': 'versicolor',\n",
      " '_id': ObjectId('5fe79ea038661f698e3cb830')}\n",
      "{'Petal_Length': 4.2,\n",
      " 'Petal_Width': 1.2,\n",
      " 'Sepal_Length': 5.7,\n",
      " 'Sepal_Width': 3.0,\n",
      " 'Species': 'versicolor',\n",
      " '_id': ObjectId('5fe79ea038661f698e3cb831')}\n",
      "{'Petal_Length': 4.2,\n",
      " 'Petal_Width': 1.3,\n",
      " 'Sepal_Length': 5.7,\n",
      " 'Sepal_Width': 2.9,\n",
      " 'Species': 'versicolor',\n",
      " '_id': ObjectId('5fe79ea038661f698e3cb832')}\n"
     ]
    },
    {
     "name": "stdout",
     "output_type": "stream",
     "text": [
      "{'Petal_Length': 4.3,\n",
      " 'Petal_Width': 1.3,\n",
      " 'Sepal_Length': 6.2,\n",
      " 'Sepal_Width': 2.9,\n",
      " 'Species': 'versicolor',\n",
      " '_id': ObjectId('5fe79ea038661f698e3cb833')}\n",
      "{'Petal_Length': 3.0,\n",
      " 'Petal_Width': 1.1,\n",
      " 'Sepal_Length': 5.1,\n",
      " 'Sepal_Width': 2.5,\n",
      " 'Species': 'versicolor',\n",
      " '_id': ObjectId('5fe79ea038661f698e3cb834')}\n",
      "{'Petal_Length': 4.1,\n",
      " 'Petal_Width': 1.3,\n",
      " 'Sepal_Length': 5.7,\n",
      " 'Sepal_Width': 2.8,\n",
      " 'Species': 'versicolor',\n",
      " '_id': ObjectId('5fe79ea038661f698e3cb835')}\n",
      "{'Petal_Length': 6.0,\n",
      " 'Petal_Width': 2.5,\n",
      " 'Sepal_Length': 6.3,\n",
      " 'Sepal_Width': 3.3,\n",
      " 'Species': 'virginica',\n",
      " '_id': ObjectId('5fe79ea038661f698e3cb836')}\n",
      "{'Petal_Length': 5.1,\n",
      " 'Petal_Width': 1.9,\n",
      " 'Sepal_Length': 5.8,\n",
      " 'Sepal_Width': 2.7,\n",
      " 'Species': 'virginica',\n",
      " '_id': ObjectId('5fe79ea038661f698e3cb837')}\n",
      "{'Petal_Length': 5.9,\n",
      " 'Petal_Width': 2.1,\n",
      " 'Sepal_Length': 7.1,\n",
      " 'Sepal_Width': 3.0,\n",
      " 'Species': 'virginica',\n",
      " '_id': ObjectId('5fe79ea038661f698e3cb838')}\n",
      "{'Petal_Length': 5.6,\n",
      " 'Petal_Width': 1.8,\n",
      " 'Sepal_Length': 6.3,\n",
      " 'Sepal_Width': 2.9,\n",
      " 'Species': 'virginica',\n",
      " '_id': ObjectId('5fe79ea038661f698e3cb839')}\n",
      "{'Petal_Length': 5.8,\n",
      " 'Petal_Width': 2.2,\n",
      " 'Sepal_Length': 6.5,\n",
      " 'Sepal_Width': 3.0,\n",
      " 'Species': 'virginica',\n",
      " '_id': ObjectId('5fe79ea038661f698e3cb83a')}\n",
      "{'Petal_Length': 6.6,\n",
      " 'Petal_Width': 2.1,\n",
      " 'Sepal_Length': 7.6,\n",
      " 'Sepal_Width': 3.0,\n",
      " 'Species': 'virginica',\n",
      " '_id': ObjectId('5fe79ea038661f698e3cb83b')}\n",
      "{'Petal_Length': 4.5,\n",
      " 'Petal_Width': 1.7,\n",
      " 'Sepal_Length': 4.9,\n",
      " 'Sepal_Width': 2.5,\n",
      " 'Species': 'virginica',\n",
      " '_id': ObjectId('5fe79ea038661f698e3cb83c')}\n",
      "{'Petal_Length': 6.3,\n",
      " 'Petal_Width': 1.8,\n",
      " 'Sepal_Length': 7.3,\n",
      " 'Sepal_Width': 2.9,\n",
      " 'Species': 'virginica',\n",
      " '_id': ObjectId('5fe79ea038661f698e3cb83d')}\n",
      "{'Petal_Length': 5.8,\n",
      " 'Petal_Width': 1.8,\n",
      " 'Sepal_Length': 6.7,\n",
      " 'Sepal_Width': 2.5,\n",
      " 'Species': 'virginica',\n",
      " '_id': ObjectId('5fe79ea038661f698e3cb83e')}\n",
      "{'Petal_Length': 6.1,\n",
      " 'Petal_Width': 2.5,\n",
      " 'Sepal_Length': 7.2,\n",
      " 'Sepal_Width': 3.6,\n",
      " 'Species': 'virginica',\n",
      " '_id': ObjectId('5fe79ea038661f698e3cb83f')}\n",
      "{'Petal_Length': 5.1,\n",
      " 'Petal_Width': 2.0,\n",
      " 'Sepal_Length': 6.5,\n",
      " 'Sepal_Width': 3.2,\n",
      " 'Species': 'virginica',\n",
      " '_id': ObjectId('5fe79ea038661f698e3cb840')}\n",
      "{'Petal_Length': 5.3,\n",
      " 'Petal_Width': 1.9,\n",
      " 'Sepal_Length': 6.4,\n",
      " 'Sepal_Width': 2.7,\n",
      " 'Species': 'virginica',\n",
      " '_id': ObjectId('5fe79ea038661f698e3cb841')}\n",
      "{'Petal_Length': 5.5,\n",
      " 'Petal_Width': 2.1,\n",
      " 'Sepal_Length': 6.8,\n",
      " 'Sepal_Width': 3.0,\n",
      " 'Species': 'virginica',\n",
      " '_id': ObjectId('5fe79ea038661f698e3cb842')}\n",
      "{'Petal_Length': 5.0,\n",
      " 'Petal_Width': 2.0,\n",
      " 'Sepal_Length': 5.7,\n",
      " 'Sepal_Width': 2.5,\n",
      " 'Species': 'virginica',\n",
      " '_id': ObjectId('5fe79ea038661f698e3cb843')}\n",
      "{'Petal_Length': 5.1,\n",
      " 'Petal_Width': 2.4,\n",
      " 'Sepal_Length': 5.8,\n",
      " 'Sepal_Width': 2.8,\n",
      " 'Species': 'virginica',\n",
      " '_id': ObjectId('5fe79ea038661f698e3cb844')}\n",
      "{'Petal_Length': 5.3,\n",
      " 'Petal_Width': 2.3,\n",
      " 'Sepal_Length': 6.4,\n",
      " 'Sepal_Width': 3.2,\n",
      " 'Species': 'virginica',\n",
      " '_id': ObjectId('5fe79ea038661f698e3cb845')}\n",
      "{'Petal_Length': 5.5,\n",
      " 'Petal_Width': 1.8,\n",
      " 'Sepal_Length': 6.5,\n",
      " 'Sepal_Width': 3.0,\n",
      " 'Species': 'virginica',\n",
      " '_id': ObjectId('5fe79ea038661f698e3cb846')}\n",
      "{'Petal_Length': 6.7,\n",
      " 'Petal_Width': 2.2,\n",
      " 'Sepal_Length': 7.7,\n",
      " 'Sepal_Width': 3.8,\n",
      " 'Species': 'virginica',\n",
      " '_id': ObjectId('5fe79ea038661f698e3cb847')}\n",
      "{'Petal_Length': 6.9,\n",
      " 'Petal_Width': 2.3,\n",
      " 'Sepal_Length': 7.7,\n",
      " 'Sepal_Width': 2.6,\n",
      " 'Species': 'virginica',\n",
      " '_id': ObjectId('5fe79ea038661f698e3cb848')}\n",
      "{'Petal_Length': 5.0,\n",
      " 'Petal_Width': 1.5,\n",
      " 'Sepal_Length': 6.0,\n",
      " 'Sepal_Width': 2.2,\n",
      " 'Species': 'virginica',\n",
      " '_id': ObjectId('5fe79ea038661f698e3cb849')}\n",
      "{'Petal_Length': 5.7,\n",
      " 'Petal_Width': 2.3,\n",
      " 'Sepal_Length': 6.9,\n",
      " 'Sepal_Width': 3.2,\n",
      " 'Species': 'virginica',\n",
      " '_id': ObjectId('5fe79ea038661f698e3cb84a')}\n",
      "{'Petal_Length': 4.9,\n",
      " 'Petal_Width': 2.0,\n",
      " 'Sepal_Length': 5.6,\n",
      " 'Sepal_Width': 2.8,\n",
      " 'Species': 'virginica',\n",
      " '_id': ObjectId('5fe79ea038661f698e3cb84b')}\n",
      "{'Petal_Length': 6.7,\n",
      " 'Petal_Width': 2.0,\n",
      " 'Sepal_Length': 7.7,\n",
      " 'Sepal_Width': 2.8,\n",
      " 'Species': 'virginica',\n",
      " '_id': ObjectId('5fe79ea038661f698e3cb84c')}\n",
      "{'Petal_Length': 4.9,\n",
      " 'Petal_Width': 1.8,\n",
      " 'Sepal_Length': 6.3,\n",
      " 'Sepal_Width': 2.7,\n",
      " 'Species': 'virginica',\n",
      " '_id': ObjectId('5fe79ea038661f698e3cb84d')}\n",
      "{'Petal_Length': 5.7,\n",
      " 'Petal_Width': 2.1,\n",
      " 'Sepal_Length': 6.7,\n",
      " 'Sepal_Width': 3.3,\n",
      " 'Species': 'virginica',\n",
      " '_id': ObjectId('5fe79ea038661f698e3cb84e')}\n",
      "{'Petal_Length': 6.0,\n",
      " 'Petal_Width': 1.8,\n",
      " 'Sepal_Length': 7.2,\n",
      " 'Sepal_Width': 3.2,\n",
      " 'Species': 'virginica',\n",
      " '_id': ObjectId('5fe79ea038661f698e3cb84f')}\n",
      "{'Petal_Length': 4.8,\n",
      " 'Petal_Width': 1.8,\n",
      " 'Sepal_Length': 6.2,\n",
      " 'Sepal_Width': 2.8,\n",
      " 'Species': 'virginica',\n",
      " '_id': ObjectId('5fe79ea038661f698e3cb850')}\n",
      "{'Petal_Length': 4.9,\n",
      " 'Petal_Width': 1.8,\n",
      " 'Sepal_Length': 6.1,\n",
      " 'Sepal_Width': 3.0,\n",
      " 'Species': 'virginica',\n",
      " '_id': ObjectId('5fe79ea038661f698e3cb851')}\n",
      "{'Petal_Length': 5.6,\n",
      " 'Petal_Width': 2.1,\n",
      " 'Sepal_Length': 6.4,\n",
      " 'Sepal_Width': 2.8,\n",
      " 'Species': 'virginica',\n",
      " '_id': ObjectId('5fe79ea038661f698e3cb852')}\n",
      "{'Petal_Length': 5.8,\n",
      " 'Petal_Width': 1.6,\n",
      " 'Sepal_Length': 7.2,\n",
      " 'Sepal_Width': 3.0,\n",
      " 'Species': 'virginica',\n",
      " '_id': ObjectId('5fe79ea038661f698e3cb853')}\n",
      "{'Petal_Length': 6.1,\n",
      " 'Petal_Width': 1.9,\n",
      " 'Sepal_Length': 7.4,\n",
      " 'Sepal_Width': 2.8,\n",
      " 'Species': 'virginica',\n",
      " '_id': ObjectId('5fe79ea038661f698e3cb854')}\n",
      "{'Petal_Length': 6.4,\n",
      " 'Petal_Width': 2.0,\n",
      " 'Sepal_Length': 7.9,\n",
      " 'Sepal_Width': 3.8,\n",
      " 'Species': 'virginica',\n",
      " '_id': ObjectId('5fe79ea038661f698e3cb855')}\n",
      "{'Petal_Length': 5.6,\n",
      " 'Petal_Width': 2.2,\n",
      " 'Sepal_Length': 6.4,\n",
      " 'Sepal_Width': 2.8,\n",
      " 'Species': 'virginica',\n",
      " '_id': ObjectId('5fe79ea038661f698e3cb856')}\n",
      "{'Petal_Length': 5.1,\n",
      " 'Petal_Width': 1.5,\n",
      " 'Sepal_Length': 6.3,\n",
      " 'Sepal_Width': 2.8,\n",
      " 'Species': 'virginica',\n",
      " '_id': ObjectId('5fe79ea038661f698e3cb857')}\n",
      "{'Petal_Length': 5.6,\n",
      " 'Petal_Width': 1.4,\n",
      " 'Sepal_Length': 6.1,\n",
      " 'Sepal_Width': 2.6,\n",
      " 'Species': 'virginica',\n",
      " '_id': ObjectId('5fe79ea038661f698e3cb858')}\n",
      "{'Petal_Length': 6.1,\n",
      " 'Petal_Width': 2.3,\n",
      " 'Sepal_Length': 7.7,\n",
      " 'Sepal_Width': 3.0,\n",
      " 'Species': 'virginica',\n",
      " '_id': ObjectId('5fe79ea038661f698e3cb859')}\n",
      "{'Petal_Length': 5.6,\n",
      " 'Petal_Width': 2.4,\n",
      " 'Sepal_Length': 6.3,\n",
      " 'Sepal_Width': 3.4,\n",
      " 'Species': 'virginica',\n",
      " '_id': ObjectId('5fe79ea038661f698e3cb85a')}\n",
      "{'Petal_Length': 5.5,\n",
      " 'Petal_Width': 1.8,\n",
      " 'Sepal_Length': 6.4,\n",
      " 'Sepal_Width': 3.1,\n",
      " 'Species': 'virginica',\n",
      " '_id': ObjectId('5fe79ea038661f698e3cb85b')}\n",
      "{'Petal_Length': 4.8,\n",
      " 'Petal_Width': 1.8,\n",
      " 'Sepal_Length': 6.0,\n",
      " 'Sepal_Width': 3.0,\n",
      " 'Species': 'virginica',\n",
      " '_id': ObjectId('5fe79ea038661f698e3cb85c')}\n",
      "{'Petal_Length': 5.4,\n",
      " 'Petal_Width': 2.1,\n",
      " 'Sepal_Length': 6.9,\n",
      " 'Sepal_Width': 3.1,\n",
      " 'Species': 'virginica',\n",
      " '_id': ObjectId('5fe79ea038661f698e3cb85d')}\n",
      "{'Petal_Length': 5.6,\n",
      " 'Petal_Width': 2.4,\n",
      " 'Sepal_Length': 6.7,\n",
      " 'Sepal_Width': 3.1,\n",
      " 'Species': 'virginica',\n",
      " '_id': ObjectId('5fe79ea038661f698e3cb85e')}\n",
      "{'Petal_Length': 5.1,\n",
      " 'Petal_Width': 2.3,\n",
      " 'Sepal_Length': 6.9,\n",
      " 'Sepal_Width': 3.1,\n",
      " 'Species': 'virginica',\n",
      " '_id': ObjectId('5fe79ea038661f698e3cb85f')}\n",
      "{'Petal_Length': 5.1,\n",
      " 'Petal_Width': 1.9,\n",
      " 'Sepal_Length': 5.8,\n",
      " 'Sepal_Width': 2.7,\n",
      " 'Species': 'virginica',\n",
      " '_id': ObjectId('5fe79ea038661f698e3cb860')}\n",
      "{'Petal_Length': 5.9,\n",
      " 'Petal_Width': 2.3,\n",
      " 'Sepal_Length': 6.8,\n",
      " 'Sepal_Width': 3.2,\n",
      " 'Species': 'virginica',\n",
      " '_id': ObjectId('5fe79ea038661f698e3cb861')}\n",
      "{'Petal_Length': 5.7,\n",
      " 'Petal_Width': 2.5,\n",
      " 'Sepal_Length': 6.7,\n",
      " 'Sepal_Width': 3.3,\n",
      " 'Species': 'virginica',\n",
      " '_id': ObjectId('5fe79ea038661f698e3cb862')}\n",
      "{'Petal_Length': 5.2,\n",
      " 'Petal_Width': 2.3,\n",
      " 'Sepal_Length': 6.7,\n",
      " 'Sepal_Width': 3.0,\n",
      " 'Species': 'virginica',\n",
      " '_id': ObjectId('5fe79ea038661f698e3cb863')}\n",
      "{'Petal_Length': 5.0,\n",
      " 'Petal_Width': 1.9,\n",
      " 'Sepal_Length': 6.3,\n",
      " 'Sepal_Width': 2.5,\n",
      " 'Species': 'virginica',\n",
      " '_id': ObjectId('5fe79ea038661f698e3cb864')}\n",
      "{'Petal_Length': 5.2,\n",
      " 'Petal_Width': 2.0,\n",
      " 'Sepal_Length': 6.5,\n",
      " 'Sepal_Width': 3.0,\n",
      " 'Species': 'virginica',\n",
      " '_id': ObjectId('5fe79ea038661f698e3cb865')}\n",
      "{'Petal_Length': 5.4,\n",
      " 'Petal_Width': 2.3,\n",
      " 'Sepal_Length': 6.2,\n",
      " 'Sepal_Width': 3.4,\n",
      " 'Species': 'virginica',\n",
      " '_id': ObjectId('5fe79ea038661f698e3cb866')}\n",
      "{'Petal_Length': 5.1,\n",
      " 'Petal_Width': 1.8,\n",
      " 'Sepal_Length': 5.9,\n",
      " 'Sepal_Width': 3.0,\n",
      " 'Species': 'virginica',\n",
      " '_id': ObjectId('5fe79ea038661f698e3cb867')}\n",
      "{'_id': ObjectId('5fe7a0dc38661f698e3cb868'), 'nome': 'maria'}\n",
      "{'_id': ObjectId('5fe7a0dc38661f698e3cb869'), 'idade': 23, 'nome': 'ana'}\n",
      "{'_id': ObjectId('5fe7a0dc38661f698e3cb86a'), 'nome': 'João'}\n",
      "{'_id': ObjectId('5fe7a0f138661f698e3cb86b'), 'nome': 'maria'}\n",
      "{'_id': ObjectId('5fe7a0f138661f698e3cb86c'), 'idade': 23, 'nome': 'ana'}\n",
      "{'_id': ObjectId('5fe7a0f138661f698e3cb86d'), 'nome': 'João'}\n"
     ]
    }
   ],
   "source": [
    "#Seleciona os documentos da coleção que atendam a condição e imprime os documentos\n",
    "for documents in collection.find({}):\n",
    "    pprint.pprint(documents)"
   ]
  },
  {
   "cell_type": "code",
   "execution_count": 43,
   "metadata": {},
   "outputs": [
    {
     "data": {
      "text/plain": [
       "['IrisDump', 'iris', 'pessoas']"
      ]
     },
     "execution_count": 43,
     "metadata": {},
     "output_type": "execute_result"
    }
   ],
   "source": [
    "db.list_collection_names()"
   ]
  },
  {
   "cell_type": "code",
   "execution_count": 45,
   "metadata": {},
   "outputs": [],
   "source": [
    "#Cria BD e coleção\n",
    "con=pymongo.MongoClient(\"mongodb://localhost:27017/\")"
   ]
  },
  {
   "cell_type": "code",
   "execution_count": 46,
   "metadata": {},
   "outputs": [
    {
     "data": {
      "text/plain": [
       "['IrisDump', 'iris', 'pessoas']"
      ]
     },
     "execution_count": 46,
     "metadata": {},
     "output_type": "execute_result"
    }
   ],
   "source": [
    "db.list_collection_names()"
   ]
  },
  {
   "cell_type": "code",
   "execution_count": 51,
   "metadata": {},
   "outputs": [
    {
     "data": {
      "text/plain": [
       "['admin', 'config', 'igti', 'local']"
      ]
     },
     "execution_count": 51,
     "metadata": {},
     "output_type": "execute_result"
    }
   ],
   "source": [
    "con.list_database_names()"
   ]
  },
  {
   "cell_type": "code",
   "execution_count": 47,
   "metadata": {},
   "outputs": [],
   "source": [
    "#Cria um novo BD\n",
    "db=con[\"Vendas\"]"
   ]
  },
  {
   "cell_type": "code",
   "execution_count": 55,
   "metadata": {},
   "outputs": [],
   "source": [
    "#Cria nova coleção\n",
    "colecao = db[\"clientes\"]"
   ]
  },
  {
   "cell_type": "code",
   "execution_count": 57,
   "metadata": {},
   "outputs": [
    {
     "data": {
      "text/plain": [
       "[]"
      ]
     },
     "execution_count": 57,
     "metadata": {},
     "output_type": "execute_result"
    }
   ],
   "source": [
    "db.list_collection_names()"
   ]
  },
  {
   "cell_type": "code",
   "execution_count": 64,
   "metadata": {},
   "outputs": [],
   "source": [
    "#cria um novo documento\n",
    "documento = {\"nome\" : \"maria\", \"idade\" : 23}"
   ]
  },
  {
   "cell_type": "code",
   "execution_count": 65,
   "metadata": {},
   "outputs": [],
   "source": [
    "resultado = colecao.insert_one(documento)"
   ]
  },
  {
   "cell_type": "code",
   "execution_count": 66,
   "metadata": {},
   "outputs": [
    {
     "name": "stdout",
     "output_type": "stream",
     "text": [
      "<pymongo.results.InsertOneResult object at 0x1167607c0>\n"
     ]
    }
   ],
   "source": [
    "print(resultado)"
   ]
  },
  {
   "cell_type": "code",
   "execution_count": 67,
   "metadata": {},
   "outputs": [
    {
     "data": {
      "text/plain": [
       "['Vendas', 'admin', 'config', 'igti', 'local']"
      ]
     },
     "execution_count": 67,
     "metadata": {},
     "output_type": "execute_result"
    }
   ],
   "source": [
    "con.list_database_names()"
   ]
  },
  {
   "cell_type": "code",
   "execution_count": 68,
   "metadata": {},
   "outputs": [
    {
     "data": {
      "text/plain": [
       "['clientes']"
      ]
     },
     "execution_count": 68,
     "metadata": {},
     "output_type": "execute_result"
    }
   ],
   "source": [
    "db.list_collection_names()"
   ]
  },
  {
   "cell_type": "code",
   "execution_count": 69,
   "metadata": {},
   "outputs": [
    {
     "name": "stdout",
     "output_type": "stream",
     "text": [
      "{'_id': ObjectId('5fe8c7568136f5645e76bb86'), 'nome': 'maria', 'idade': 23}\n"
     ]
    }
   ],
   "source": [
    "print(colecao.find_one())"
   ]
  },
  {
   "cell_type": "code",
   "execution_count": 70,
   "metadata": {},
   "outputs": [
    {
     "name": "stdout",
     "output_type": "stream",
     "text": [
      "{'_id': ObjectId('5fe8c7568136f5645e76bb86'), 'idade': 23, 'nome': 'maria'}\n"
     ]
    }
   ],
   "source": [
    "#Seleciona os documentos da coleção que atendam a condição e imprime os documentos\n",
    "for resultado in colecao.find({}):\n",
    "    pprint.pprint(resultado)"
   ]
  },
  {
   "cell_type": "code",
   "execution_count": 71,
   "metadata": {},
   "outputs": [],
   "source": [
    "#Cria um novo documento\n",
    "documento = [\n",
    "    {\"nome\":\"Jorge\", \"idade\": 33},\n",
    "    {\"nome\":\"Ana\"},\n",
    "    {\"nome\":\"William\", \"Endereço\": \"Avenida Central n. 954\"},\n",
    "    {\"nome\":\"Ana\", \"Endereço\": \"Avenida Central n. 954\"},\n",
    "    {\"nome\":\"William\", \"Endereço\": \"Avenida Central n. 954\"},\n",
    "    {\"nome\":\"William\"},\n",
    "]"
   ]
  },
  {
   "cell_type": "code",
   "execution_count": 72,
   "metadata": {},
   "outputs": [
    {
     "name": "stdout",
     "output_type": "stream",
     "text": [
      "[{'idade': 33, 'nome': 'Jorge'},\n",
      " {'nome': 'Ana'},\n",
      " {'Endereço': 'Avenida Central n. 954', 'nome': 'William'},\n",
      " {'Endereço': 'Avenida Central n. 954', 'nome': 'Ana'},\n",
      " {'Endereço': 'Avenida Central n. 954', 'nome': 'William'},\n",
      " {'nome': 'William'}]\n"
     ]
    }
   ],
   "source": [
    "pprint.pprint(documento)"
   ]
  },
  {
   "cell_type": "code",
   "execution_count": 73,
   "metadata": {},
   "outputs": [],
   "source": [
    "#insere documento na coleção\n",
    "resultado = colecao.insert_many(documento)"
   ]
  },
  {
   "cell_type": "code",
   "execution_count": 74,
   "metadata": {},
   "outputs": [
    {
     "name": "stdout",
     "output_type": "stream",
     "text": [
      "<pymongo.results.InsertManyResult object at 0x116815440>\n"
     ]
    }
   ],
   "source": [
    "print(resultado)"
   ]
  },
  {
   "cell_type": "code",
   "execution_count": 75,
   "metadata": {},
   "outputs": [
    {
     "name": "stdout",
     "output_type": "stream",
     "text": [
      "{'_id': ObjectId('5fe8c7568136f5645e76bb86'), 'idade': 23, 'nome': 'maria'}\n",
      "{'_id': ObjectId('5fe8c96d8136f5645e76bb87'), 'idade': 33, 'nome': 'Jorge'}\n",
      "{'_id': ObjectId('5fe8c96d8136f5645e76bb88'), 'nome': 'Ana'}\n",
      "{'Endereço': 'Avenida Central n. 954',\n",
      " '_id': ObjectId('5fe8c96d8136f5645e76bb89'),\n",
      " 'nome': 'William'}\n",
      "{'Endereço': 'Avenida Central n. 954',\n",
      " '_id': ObjectId('5fe8c96d8136f5645e76bb8a'),\n",
      " 'nome': 'Ana'}\n",
      "{'Endereço': 'Avenida Central n. 954',\n",
      " '_id': ObjectId('5fe8c96d8136f5645e76bb8b'),\n",
      " 'nome': 'William'}\n",
      "{'_id': ObjectId('5fe8c96d8136f5645e76bb8c'), 'nome': 'William'}\n"
     ]
    }
   ],
   "source": [
    "#Seleciona os documentos da coleção que atendam a condição e imprime os documentos\n",
    "for resultado in colecao.find({}):\n",
    "    pprint.pprint(resultado)"
   ]
  },
  {
   "cell_type": "code",
   "execution_count": 79,
   "metadata": {},
   "outputs": [
    {
     "data": {
      "text/plain": [
       "<pymongo.results.UpdateResult at 0x116806cc0>"
      ]
     },
     "execution_count": 79,
     "metadata": {},
     "output_type": "execute_result"
    }
   ],
   "source": [
    "#Atualiza UM documento da colecao\n",
    "condicao = {\"nome\": \"Ana\"}\n",
    "valor = {\"$set\": { \"logradouro\": \"Avenida JK\", \"num\": 345}}\n",
    "\n",
    "colecao.update_one(condicao, valor)"
   ]
  },
  {
   "cell_type": "code",
   "execution_count": 80,
   "metadata": {},
   "outputs": [
    {
     "name": "stdout",
     "output_type": "stream",
     "text": [
      "{'_id': ObjectId('5fe8c7568136f5645e76bb86'), 'idade': 23, 'nome': 'maria'}\n",
      "{'_id': ObjectId('5fe8c96d8136f5645e76bb87'), 'idade': 33, 'nome': 'Jorge'}\n",
      "{'_id': ObjectId('5fe8c96d8136f5645e76bb88'),\n",
      " 'logradouro': 'Avenida JK',\n",
      " 'nome': 'Ana',\n",
      " 'num': 345}\n",
      "{'Endereço': 'Avenida Central n. 954',\n",
      " '_id': ObjectId('5fe8c96d8136f5645e76bb89'),\n",
      " 'nome': 'William'}\n",
      "{'Endereço': 'Avenida Central n. 954',\n",
      " '_id': ObjectId('5fe8c96d8136f5645e76bb8a'),\n",
      " 'nome': 'Ana'}\n",
      "{'Endereço': 'Avenida Central n. 954',\n",
      " '_id': ObjectId('5fe8c96d8136f5645e76bb8b'),\n",
      " 'nome': 'William'}\n",
      "{'_id': ObjectId('5fe8c96d8136f5645e76bb8c'), 'nome': 'William'}\n"
     ]
    }
   ],
   "source": [
    "for resultado in colecao.find({}):\n",
    "    pprint.pprint(resultado)"
   ]
  },
  {
   "cell_type": "code",
   "execution_count": 81,
   "metadata": {},
   "outputs": [
    {
     "name": "stdout",
     "output_type": "stream",
     "text": [
      "{'_id': ObjectId('5fe8c96d8136f5645e76bb88'),\n",
      " 'logradouro': 'Avenida JK',\n",
      " 'nome': 'Ana',\n",
      " 'num': 345}\n",
      "{'Endereço': 'Avenida Central n. 954',\n",
      " '_id': ObjectId('5fe8c96d8136f5645e76bb8a'),\n",
      " 'nome': 'Ana'}\n"
     ]
    }
   ],
   "source": [
    "for resultado in colecao.find({'nome': 'Ana'}):\n",
    "    pprint.pprint(resultado)"
   ]
  },
  {
   "cell_type": "code",
   "execution_count": 82,
   "metadata": {},
   "outputs": [
    {
     "data": {
      "text/plain": [
       "<pymongo.results.UpdateResult at 0x11674d140>"
      ]
     },
     "execution_count": 82,
     "metadata": {},
     "output_type": "execute_result"
    }
   ],
   "source": [
    "#Atualiza VÁRIOS documentos da colecao\n",
    "condicao = {\"nome\": \"Ana\"}\n",
    "valor = {\"$set\": { \"logradouro\": \"Avenida JK\", \"num\": 345}}\n",
    "\n",
    "colecao.update_many(condicao, valor)"
   ]
  },
  {
   "cell_type": "code",
   "execution_count": 83,
   "metadata": {},
   "outputs": [
    {
     "name": "stdout",
     "output_type": "stream",
     "text": [
      "{'_id': ObjectId('5fe8c96d8136f5645e76bb88'),\n",
      " 'logradouro': 'Avenida JK',\n",
      " 'nome': 'Ana',\n",
      " 'num': 345}\n",
      "{'Endereço': 'Avenida Central n. 954',\n",
      " '_id': ObjectId('5fe8c96d8136f5645e76bb8a'),\n",
      " 'logradouro': 'Avenida JK',\n",
      " 'nome': 'Ana',\n",
      " 'num': 345}\n"
     ]
    }
   ],
   "source": [
    "for resultado in colecao.find({'nome': 'Ana'}):\n",
    "    pprint.pprint(resultado)"
   ]
  },
  {
   "cell_type": "code",
   "execution_count": 84,
   "metadata": {},
   "outputs": [
    {
     "name": "stdout",
     "output_type": "stream",
     "text": [
      "{'Endereço': 'Avenida Central n. 954',\n",
      " '_id': ObjectId('5fe8c96d8136f5645e76bb89'),\n",
      " 'nome': 'William'}\n",
      "{'Endereço': 'Avenida Central n. 954',\n",
      " '_id': ObjectId('5fe8c96d8136f5645e76bb8b'),\n",
      " 'nome': 'William'}\n",
      "{'_id': ObjectId('5fe8c96d8136f5645e76bb8c'), 'nome': 'William'}\n"
     ]
    }
   ],
   "source": [
    "for resultado in colecao.find({'nome': 'William'}):\n",
    "    pprint.pprint(resultado)"
   ]
  },
  {
   "cell_type": "code",
   "execution_count": 85,
   "metadata": {},
   "outputs": [
    {
     "data": {
      "text/plain": [
       "<pymongo.results.DeleteResult at 0x11674d480>"
      ]
     },
     "execution_count": 85,
     "metadata": {},
     "output_type": "execute_result"
    }
   ],
   "source": [
    "#Exclui um documento da colecao\n",
    "condicao = {\"nome\": \"William\"}\n",
    "\n",
    "colecao.delete_one(condicao)"
   ]
  },
  {
   "cell_type": "code",
   "execution_count": 86,
   "metadata": {},
   "outputs": [
    {
     "name": "stdout",
     "output_type": "stream",
     "text": [
      "{'Endereço': 'Avenida Central n. 954',\n",
      " '_id': ObjectId('5fe8c96d8136f5645e76bb8b'),\n",
      " 'nome': 'William'}\n",
      "{'_id': ObjectId('5fe8c96d8136f5645e76bb8c'), 'nome': 'William'}\n"
     ]
    }
   ],
   "source": [
    "for resultado in colecao.find({'nome': 'William'}):\n",
    "    pprint.pprint(resultado)"
   ]
  },
  {
   "cell_type": "code",
   "execution_count": 87,
   "metadata": {},
   "outputs": [
    {
     "data": {
      "text/plain": [
       "<pymongo.results.DeleteResult at 0x11674d980>"
      ]
     },
     "execution_count": 87,
     "metadata": {},
     "output_type": "execute_result"
    }
   ],
   "source": [
    "#Exclui VÁRIOS documento da colecao\n",
    "condicao = {\"nome\": \"William\"}\n",
    "\n",
    "colecao.delete_many(condicao)"
   ]
  },
  {
   "cell_type": "code",
   "execution_count": 88,
   "metadata": {},
   "outputs": [],
   "source": [
    "for resultado in colecao.find({'nome': 'William'}):\n",
    "    pprint.pprint(resultado)"
   ]
  },
  {
   "cell_type": "code",
   "execution_count": 89,
   "metadata": {},
   "outputs": [
    {
     "name": "stdout",
     "output_type": "stream",
     "text": [
      "{'_id': ObjectId('5fe8c7568136f5645e76bb86'), 'idade': 23, 'nome': 'maria'}\n",
      "{'_id': ObjectId('5fe8c96d8136f5645e76bb87'), 'idade': 33, 'nome': 'Jorge'}\n",
      "{'_id': ObjectId('5fe8c96d8136f5645e76bb88'),\n",
      " 'logradouro': 'Avenida JK',\n",
      " 'nome': 'Ana',\n",
      " 'num': 345}\n",
      "{'Endereço': 'Avenida Central n. 954',\n",
      " '_id': ObjectId('5fe8c96d8136f5645e76bb8a'),\n",
      " 'logradouro': 'Avenida JK',\n",
      " 'nome': 'Ana',\n",
      " 'num': 345}\n"
     ]
    }
   ],
   "source": [
    "for resultado in colecao.find():\n",
    "    pprint.pprint(resultado)"
   ]
  }
 ],
 "metadata": {
  "kernelspec": {
   "display_name": "Python 3",
   "language": "python",
   "name": "python3"
  },
  "language_info": {
   "codemirror_mode": {
    "name": "ipython",
    "version": 3
   },
   "file_extension": ".py",
   "mimetype": "text/x-python",
   "name": "python",
   "nbconvert_exporter": "python",
   "pygments_lexer": "ipython3",
   "version": "3.8.6"
  }
 },
 "nbformat": 4,
 "nbformat_minor": 4
}
